{
  "nbformat": 4,
  "nbformat_minor": 0,
  "metadata": {
    "colab": {
      "name": "Cochrane Specific Extraction",
      "provenance": [],
      "collapsed_sections": []
    },
    "kernelspec": {
      "name": "python3",
      "display_name": "Python 3"
    }
  },
  "cells": [
    {
      "cell_type": "code",
      "metadata": {
        "id": "L2eAUThM5_vi"
      },
      "source": [
        "import json\n",
        "import os\n",
        "import errno\n",
        "import pandas as pd\n",
        "from tqdm import tqdm\n"
      ],
      "execution_count": null,
      "outputs": []
    },
    {
      "cell_type": "code",
      "metadata": {
        "id": "JHvJ2xRi6G8v",
        "colab": {
          "base_uri": "https://localhost:8080/",
          "height": 35
        },
        "outputId": "e73094a9-64c3-4f2e-8963-0967647662e8"
      },
      "source": [
        "from google.colab import drive\n",
        "drive.mount('/content/drive', force_remount=True)"
      ],
      "execution_count": null,
      "outputs": [
        {
          "output_type": "stream",
          "text": [
            "Mounted at /content/drive\n"
          ],
          "name": "stdout"
        }
      ]
    },
    {
      "cell_type": "code",
      "metadata": {
        "id": "S3EiB_wv6X9V"
      },
      "source": [
        "path = \"/content/drive/My Drive/Notebook Files/CNMR/1860/04_30.json\""
      ],
      "execution_count": null,
      "outputs": []
    },
    {
      "cell_type": "code",
      "metadata": {
        "id": "--zS4JYI7zsO"
      },
      "source": [
        "def openJSON(path):\n",
        "  with open(path) as json_file:\n",
        "    data = json.load(json_file)\n",
        "    return data\n"
      ],
      "execution_count": null,
      "outputs": []
    },
    {
      "cell_type": "code",
      "metadata": {
        "id": "ihLmHdnFnxjA"
      },
      "source": [
        "def extractJSON(dict, path):  \n",
        "  with open(path, 'w') as outfile:\n",
        "      json.dump(dict, outfile)\n"
      ],
      "execution_count": null,
      "outputs": []
    },
    {
      "cell_type": "code",
      "metadata": {
        "id": "mzBZIPKJQtqr"
      },
      "source": [
        "def getRelevantKeys(some_dict):\n",
        "  # We convert a list of list of keys into its elements.\n",
        "  keys = [l for l in some_dict.keys()]\n",
        "  return keys"
      ],
      "execution_count": null,
      "outputs": []
    },
    {
      "cell_type": "code",
      "metadata": {
        "id": "IWHpOTUqHkGN"
      },
      "source": [
        "def getRelevantValues(some_dict):\n",
        "  # We convert a list of list of values into its elements.\n",
        "  first = [x for l in some_dict.values() for x in l ]\n",
        "  # We want odd elements of the list. Even elements are titles.\n",
        "  relevant = []\n",
        "  for i in range (1,len(first)+1,2):\n",
        "    relevant.append(first[i])\n",
        "  return relevant"
      ],
      "execution_count": null,
      "outputs": []
    },
    {
      "cell_type": "code",
      "metadata": {
        "id": "mjtlbT0sXpGk"
      },
      "source": [
        "def indextoValue(mainlist, indexlist):\n",
        "  values = []\n",
        "  for item in indexlist:\n",
        "    values.append(mainlist[item])\n",
        "  return values"
      ],
      "execution_count": null,
      "outputs": []
    },
    {
      "cell_type": "code",
      "metadata": {
        "id": "rxzlMx9YYOw-"
      },
      "source": [
        "def createDictionary(keyList, valueList):\n",
        "  dictionary = {keyList[i]: valueList[i] for i in range(len(keyList))}\n",
        "  return dictionary"
      ],
      "execution_count": null,
      "outputs": []
    },
    {
      "cell_type": "code",
      "metadata": {
        "id": "4jNH1cn39kTM"
      },
      "source": [
        "def getDictionary (json_dict, search):\n",
        "  keys = getRelevantKeys(json_dict)\n",
        "  values = getRelevantValues(json_dict)\n",
        "  index = []\n",
        "  i = 0\n",
        "  # print(keys)\n",
        "  # print(values)\n",
        "  # print(len(keys))\n",
        "  # print(len(values))\n",
        "  for item in values:\n",
        "    if item.find(search) != -1:\n",
        "      index.append(i)\n",
        "    i = i+1\n",
        "\n",
        "  final_dict = createDictionary(indextoValue(keys,index), indextoValue(values,index))\n",
        "\n",
        "  return final_dict"
      ],
      "execution_count": null,
      "outputs": []
    },
    {
      "cell_type": "code",
      "metadata": {
        "id": "Y7Px9o2eet2T"
      },
      "source": [
        "def getJsonFilesPath(main,year):\n",
        "  main_path = \"/content/drive/My Drive/Notebook Files/{}/{}\".format(main,year)\n",
        "  sheet_path = \"/content/drive/My Drive/Cochrane Master Folder/Cochrane Results/{}/{}/{}.xlsx\".format(main,year,year)\n",
        "  sheet = pd.read_excel(sheet_path)\n",
        "  json_list = [item for item in sheet['File Name']]\n",
        "  json_paths = []\n",
        "  for item in json_list:\n",
        "    json_paths.append(main_path + '/' + item)\n",
        "  return json_paths\n"
      ],
      "execution_count": null,
      "outputs": []
    },
    {
      "cell_type": "code",
      "metadata": {
        "id": "Rxmv-8ZFk3zF"
      },
      "source": [
        "def getOutput(main,year):\n",
        "  main_path = \"/content/drive/My Drive/Cochrane Master Folder/Specific Articles Related to Cochrane/{}/{}\".format(main,year)\n",
        "  sheet_path = \"/content/drive/My Drive/Cochrane Master Folder/Cochrane Results/{}/{}/{}.xlsx\".format(main,year,year)\n",
        "  sheet = pd.read_excel(sheet_path)\n",
        "  json_list = [item for item in sheet['File Name']]\n",
        "  output_paths = []\n",
        "  for item in json_list:\n",
        "    output_paths.append(main_path + '/' + item)\n",
        "  return output_paths"
      ],
      "execution_count": null,
      "outputs": []
    },
    {
      "cell_type": "code",
      "metadata": {
        "id": "Fivvo17ThxKD"
      },
      "source": [
        "def runFolder():\n",
        "  main_folder = input('Enter main folder to run: ')\n",
        "  ex_list_path = \"/content/drive/My Drive/Cochrane Master Folder/Cochrane Results/{}\".format(main_folder)\n",
        "  exfiles = [file for file in os.listdir(ex_list_path)]\n",
        "  output = \"/content/drive/My Drive/Cochrane Master Folder/Specific Articles Related to Cochrane/\"\n",
        "  print(exfiles)\n",
        "\n",
        "  json_all = []\n",
        "  output_all = []\n",
        "  for year in tqdm(exfiles):\n",
        "    json_all = getJsonFilesPath(main_folder,year)\n",
        "    output_all = getOutput(main_folder,year)\n",
        "    # print(output_all)\n",
        "    # print(json_all)\n",
        "    # print(len(json_all))\n",
        "    index = [i for i in range(0, len(json_all),1)]\n",
        "\n",
        "\n",
        "    for i in index:\n",
        "      data = openJSON(json_all[i])\n",
        "      dictionary = getDictionary(data,'Cochrane')\n",
        "      extractJSON(dictionary,output_all[i])\n",
        "\n",
        "\n",
        "  \n",
        "\n",
        "  \n",
        "\n"
      ],
      "execution_count": null,
      "outputs": []
    },
    {
      "cell_type": "markdown",
      "metadata": {
        "id": "biImFAIgr6qn"
      },
      "source": [
        "#Extraction\n",
        "Everything is in terms of **functions**. Run the function\n",
        "\n",
        "```\n",
        "runFolder()\n",
        "```\n",
        "and input folder name when prompted.\n",
        "\n"
      ]
    },
    {
      "cell_type": "code",
      "metadata": {
        "id": "UtzS6rp2iY9y",
        "colab": {
          "base_uri": "https://localhost:8080/",
          "height": 72
        },
        "outputId": "0d8e5118-6ff1-4064-a340-1a58cf1fa1a5"
      },
      "source": [
        "runFolder()"
      ],
      "execution_count": null,
      "outputs": [
        {
          "output_type": "stream",
          "text": [
            "Enter main folder to run: CNMR\n"
          ],
          "name": "stdout"
        },
        {
          "output_type": "stream",
          "text": [
            "\r  0%|          | 0/12 [00:00<?, ?it/s]"
          ],
          "name": "stderr"
        },
        {
          "output_type": "stream",
          "text": [
            "['1860', '1817', '1818', '1819', '1820', '1821', '1822', '1823', '1824', '1825', '1858', '1859']\n"
          ],
          "name": "stdout"
        },
        {
          "output_type": "stream",
          "text": [
            "100%|██████████| 12/12 [03:29<00:00, 17.47s/it]\n"
          ],
          "name": "stderr"
        }
      ]
    },
    {
      "cell_type": "code",
      "metadata": {
        "id": "u_j138TWd1IK"
      },
      "source": [
        ""
      ],
      "execution_count": null,
      "outputs": []
    }
  ]
}