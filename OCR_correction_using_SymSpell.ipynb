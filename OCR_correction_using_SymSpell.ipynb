{
  "nbformat": 4,
  "nbformat_minor": 0,
  "metadata": {
    "colab": {
      "name": "OCR correction using SymSpell",
      "provenance": [],
      "collapsed_sections": [
        "aZmvJLK0ERh-"
      ]
    },
    "kernelspec": {
      "display_name": "Python 3",
      "name": "python3"
    }
  },
  "cells": [
    {
      "cell_type": "code",
      "metadata": {
        "id": "vB9TVlSZBE_d",
        "colab": {
          "base_uri": "https://localhost:8080/"
        },
        "outputId": "5e3a6e5d-9342-4453-fe3f-1825f73e0f61"
      },
      "source": [
        "!pip install -U symspellpy"
      ],
      "execution_count": null,
      "outputs": [
        {
          "output_type": "stream",
          "text": [
            "Collecting symspellpy\n",
            "\u001b[?25l  Downloading https://files.pythonhosted.org/packages/99/af/e71fcca6a42b6a63f518b0c1627e1f67822815cb0cf71e6af05acbd75c78/symspellpy-6.7.0-py3-none-any.whl (2.6MB)\n",
            "\u001b[K     |████████████████████████████████| 2.6MB 9.0MB/s \n",
            "\u001b[?25hRequirement already satisfied, skipping upgrade: numpy>=1.13.1 in /usr/local/lib/python3.6/dist-packages (from symspellpy) (1.18.5)\n",
            "Installing collected packages: symspellpy\n",
            "Successfully installed symspellpy-6.7.0\n"
          ],
          "name": "stdout"
        }
      ]
    },
    {
      "cell_type": "code",
      "metadata": {
        "id": "cid-K8Q8FNjj"
      },
      "source": [
        "import symspellpy\n",
        "import pkg_resources\n",
        "from symspellpy import SymSpell, Verbosity\n",
        "import json\n",
        "import pandas as pd\n",
        "import time\n",
        "import re\n",
        "import os\n",
        "import errno\n",
        "from tqdm import tqdm"
      ],
      "execution_count": null,
      "outputs": []
    },
    {
      "cell_type": "code",
      "metadata": {
        "colab": {
          "base_uri": "https://localhost:8080/"
        },
        "id": "pxo8xkyODuXS",
        "outputId": "037503c9-009d-482e-d39a-a99f93e636dd"
      },
      "source": [
        "sym_spell = SymSpell(max_dictionary_edit_distance=3, prefix_length=7)\n",
        "dictionary_path = pkg_resources.resource_filename(\"symspellpy\", \"frequency_dictionary_en_82_765.txt\")\n",
        "bigram_path = pkg_resources.resource_filename(\"symspellpy\", \"frequency_bigramdictionary_en_243_342.txt\")\n",
        "bigram_path = pkg_resources.resource_filename(\"symspellpy\", \"frequency_bigramdictionary_en_243_342.txt\")\n",
        "sym_spell.load_dictionary(dictionary_path, term_index=0, count_index=1)\n",
        "sym_spell.load_bigram_dictionary(bigram_path, term_index=0, count_index=2)"
      ],
      "execution_count": null,
      "outputs": [
        {
          "output_type": "execute_result",
          "data": {
            "text/plain": [
              "True"
            ]
          },
          "metadata": {
            "tags": []
          },
          "execution_count": 3
        }
      ]
    },
    {
      "cell_type": "code",
      "metadata": {
        "colab": {
          "base_uri": "https://localhost:8080/"
        },
        "id": "J5cwcZC8Ap2I",
        "outputId": "ada833c0-5274-4049-89f7-39601b3ff9e1"
      },
      "source": [
        "from google.colab import drive\n",
        "drive.mount('/content/drive', force_remount=True)"
      ],
      "execution_count": null,
      "outputs": [
        {
          "output_type": "stream",
          "text": [
            "Mounted at /content/drive\n"
          ],
          "name": "stdout"
        }
      ]
    },
    {
      "cell_type": "code",
      "metadata": {
        "id": "6AV1W5ksCmze"
      },
      "source": [
        "def openJSON(path):\n",
        "  with open(path, encoding='utf-8', mode='r') as json_file:\n",
        "    data = json.load(json_file)\n",
        "    return data"
      ],
      "execution_count": null,
      "outputs": []
    },
    {
      "cell_type": "code",
      "metadata": {
        "id": "y98Guo_YCpU1"
      },
      "source": [
        "def extractJSON(dict, path):  \n",
        "  with open(path, 'w') as outfile:\n",
        "      json.dump(dict, outfile)"
      ],
      "execution_count": null,
      "outputs": []
    },
    {
      "cell_type": "code",
      "metadata": {
        "id": "frdjtvTr-su9"
      },
      "source": [
        "def checkifNumber(instr):\n",
        "  value = any(map(str.isdigit, instr))\n",
        "  return value"
      ],
      "execution_count": null,
      "outputs": []
    },
    {
      "cell_type": "code",
      "metadata": {
        "id": "StpM1QD2XfqK"
      },
      "source": [
        "def splitInput(path):\n",
        "  strjson = json.dumps(openJSON(path))\n",
        "  # print (strjson)\n",
        "  splits = strjson.split()\n",
        "  return splits"
      ],
      "execution_count": null,
      "outputs": []
    },
    {
      "cell_type": "code",
      "metadata": {
        "id": "F7fNZp3QBxS6"
      },
      "source": [
        "def spellCorrect(strlist):\n",
        "  final_string = \"\"\n",
        "  for item in strlist:      \n",
        "    if not checkifNumber(item):\n",
        "      suggestions = sym_spell.lookup_compound(item,max_edit_distance=2)\n",
        "      for i in suggestions:\n",
        "        s = (str (i)).split(',')\n",
        "        final_string = final_string + s[0] + \" \"\n",
        "  return final_string\n"
      ],
      "execution_count": null,
      "outputs": []
    },
    {
      "cell_type": "markdown",
      "metadata": {
        "id": "4QdvpZwCUZ_S"
      },
      "source": [
        "# **Spell Correct** \n",
        "\n",
        "---\n",
        "\n",
        "\n",
        "### Single year, Multiple json files\n",
        "\n",
        "Enter the folder name and year. *Make sure the 'Spell Corrected JSON' folder has the folder **already created**.*\n"
      ]
    },
    {
      "cell_type": "code",
      "metadata": {
        "id": "h13wB2cHftqC",
        "colab": {
          "base_uri": "https://localhost:8080/"
        },
        "outputId": "f879e669-2abb-48a7-f42d-f64ee012cb48"
      },
      "source": [
        "main_folder = input('Enter main folder to run: ')\n",
        "spec_year = input('Enter a year: ')\n",
        "ex_list_path = \"/content/drive/My Drive/Fourth Notebook results/{}\".format(main_folder)\n",
        "file_path = \"/content/drive/My Drive/Notebook Files/{}\".format(main_folder)\n",
        "exfiles = [file for file in os.listdir(ex_list_path) if spec_year in file]\n",
        "save_path = \"/content/drive/MyDrive/Specific Events (Chili Chile)/Spell Corrected JSON/{}/{}\".format(main_folder,spec_year)\n",
        "create_path = \"/content/drive/MyDrive/Specific Events (Chili Chile)/Spell Corrected JSON/{}\".format(main_folder)\n",
        "folder_exists = False\n",
        "\n",
        "try:\n",
        "  os.mkdir(create_path)\n",
        "except OSError as e:\n",
        "    if e.errno == errno.EEXIST:       \n",
        "      pass\n",
        "\n",
        "# Making sure folder exists\n",
        "folder_exists = os.path.isdir(create_path)\n",
        "print(folder_exists)\n",
        "\n",
        "# Creating sub-folder according to year provided\n",
        "if not exfiles:\n",
        "  print('Year does not exist')\n",
        "else:\n",
        "  print(exfiles)\n",
        "  try:\n",
        "    os.mkdir(\"/content/drive/MyDrive/Specific Events (Chili Chile)/Spell Corrected JSON/{}/{}\".format(main_folder,spec_year))\n",
        "    print('Folder for year {} created'.format(spec_year))\n",
        "  except OSError as e:\n",
        "    if e.errno == errno.EEXIST:\n",
        "      print('Folder already created')\n",
        "      pass\n",
        "\n",
        "\n",
        "\n",
        "\n"
      ],
      "execution_count": null,
      "outputs": [
        {
          "output_type": "stream",
          "text": [
            "Enter main folder to run: GWHD\n",
            "Enter a year: 1866\n",
            "True\n",
            "['1866.xlsx']\n",
            "Folder for year 1866 created\n"
          ],
          "name": "stdout"
        }
      ]
    },
    {
      "cell_type": "code",
      "metadata": {
        "colab": {
          "base_uri": "https://localhost:8080/"
        },
        "id": "zcSksAnxDJhP",
        "outputId": "bfb79cff-0ad8-4c4f-bc84-af527ab41948"
      },
      "source": [
        "# Main running portion of the notebook. If it does not show any output, then \n",
        "# main folder had some issues\n",
        "if folder_exists:    \n",
        "  if exfiles:\n",
        "    print('Starting correction steps... ')\n",
        "    path = ex_list_path + '/{}'.format(exfiles[0])\n",
        "    sheet = pd.read_excel(path, index_col=0)\n",
        "    json_list = [item for item in sheet['File Name']]\n",
        "    print(json_list)\n",
        "\n",
        "    if json_list:\n",
        "      for json_file in tqdm(json_list):\n",
        "          json_path = file_path + '/{}/{}'.format(spec_year, json_file)\n",
        "          print(json_path)\n",
        "          output = spellCorrect(splitInput(json_path))\n",
        "          dict_version = {'Text':output}\n",
        "          out = save_path + '/{}'.format(json_file)\n",
        "          extractJSON(dict_version,out)\n",
        "else:\n",
        "  print(\"There was some issues with the main folder. Check if directory exists\")"
      ],
      "execution_count": null,
      "outputs": [
        {
          "output_type": "stream",
          "text": [
            "Starting correction steps... \n"
          ],
          "name": "stdout"
        },
        {
          "output_type": "stream",
          "text": [
            "\r  0%|          | 0/113 [00:00<?, ?it/s]"
          ],
          "name": "stderr"
        },
        {
          "output_type": "stream",
          "text": [
            "['07_23.json', '01_09.json', '10_24.json', '01_23.json', '03_12.json', '04_28.json', '02_12.json', '03_28.json', '09_28.json', '06_28.json', '06_01.json', '11_13.json', '09_17.json', '09_01.json', '10_29.json', '01_20.json', '01_01.json', '04_20.json', '05_31.json', '03_31.json', '12_26.json', '05_17.json', '02_06.json', '03_06.json', '03_01.json', '12_10.json', '05_25.json', '04_06.json', '09_14.json', '10_02.json', '07_14.json', '02_01.json', '01_31.json', '10_18.json', '12_07.json', '12_15.json', '01_17.json', '03_17.json', '09_27.json', '10_15.json', '03_08.json', '03_03.json', '05_08.json', '02_19.json', '02_03.json', '01_08.json', '11_09.json', '01_03.json', '02_14.json', '05_19.json', '05_14.json', '02_16.json', '12_28.json', '10_23.json', '04_16.json', '09_05.json', '10_12.json', '04_05.json', '10_17.json', '01_27.json', '02_22.json', '06_16.json', '05_16.json', '03_22.json', '12_01.json', '05_22.json', '12_03.json', '06_30.json', '06_13.json', '07_18.json', '01_24.json', '12_14.json', '08_24.json', '02_24.json', '04_13.json', '05_30.json', '02_05.json', '01_30.json', '09_18.json', '12_27.json', '03_07.json', '06_02.json', '01_13.json', '03_29.json', '01_29.json', '04_07.json', '11_22.json', '09_07.json', '10_08.json', '05_21.json', '12_22.json', '06_18.json', '02_02.json', '11_27.json', '10_19.json', '02_13.json', '06_07.json', '03_13.json', '09_21.json', '07_09.json', '02_26.json', '05_26.json', '02_15.json', '02_09.json', '02_21.json', '04_10.json', '04_04.json', '05_15.json', '11_30.json', '05_09.json', '01_15.json', '10_30.json', '06_15.json']\n",
            "/content/drive/My Drive/Notebook Files/GWHD/1866/07_23.json\n"
          ],
          "name": "stdout"
        },
        {
          "output_type": "stream",
          "text": [
            "\r  1%|          | 1/113 [01:45<3:17:41, 105.90s/it]"
          ],
          "name": "stderr"
        },
        {
          "output_type": "stream",
          "text": [
            "/content/drive/My Drive/Notebook Files/GWHD/1866/01_09.json\n"
          ],
          "name": "stdout"
        },
        {
          "output_type": "stream",
          "text": [
            "\r  2%|▏         | 2/113 [02:33<2:43:27, 88.36s/it] "
          ],
          "name": "stderr"
        },
        {
          "output_type": "stream",
          "text": [
            "/content/drive/My Drive/Notebook Files/GWHD/1866/10_24.json\n"
          ],
          "name": "stdout"
        },
        {
          "output_type": "stream",
          "text": [
            "\r  3%|▎         | 3/113 [04:18<2:51:11, 93.38s/it]"
          ],
          "name": "stderr"
        },
        {
          "output_type": "stream",
          "text": [
            "/content/drive/My Drive/Notebook Files/GWHD/1866/01_23.json\n"
          ],
          "name": "stdout"
        },
        {
          "output_type": "stream",
          "text": [
            "\r  4%|▎         | 4/113 [05:14<2:29:12, 82.13s/it]"
          ],
          "name": "stderr"
        },
        {
          "output_type": "stream",
          "text": [
            "/content/drive/My Drive/Notebook Files/GWHD/1866/03_12.json\n"
          ],
          "name": "stdout"
        },
        {
          "output_type": "stream",
          "text": [
            "\r  4%|▍         | 5/113 [07:00<2:40:51, 89.37s/it]"
          ],
          "name": "stderr"
        },
        {
          "output_type": "stream",
          "text": [
            "/content/drive/My Drive/Notebook Files/GWHD/1866/04_28.json\n"
          ],
          "name": "stdout"
        },
        {
          "output_type": "stream",
          "text": [
            "\r  5%|▌         | 6/113 [08:33<2:41:10, 90.38s/it]"
          ],
          "name": "stderr"
        },
        {
          "output_type": "stream",
          "text": [
            "/content/drive/My Drive/Notebook Files/GWHD/1866/02_12.json\n"
          ],
          "name": "stdout"
        },
        {
          "output_type": "stream",
          "text": [
            "\r  6%|▌         | 7/113 [10:15<2:45:40, 93.78s/it]"
          ],
          "name": "stderr"
        },
        {
          "output_type": "stream",
          "text": [
            "/content/drive/My Drive/Notebook Files/GWHD/1866/03_28.json\n"
          ],
          "name": "stdout"
        },
        {
          "output_type": "stream",
          "text": [
            "\r  7%|▋         | 8/113 [11:46<2:43:05, 93.20s/it]"
          ],
          "name": "stderr"
        },
        {
          "output_type": "stream",
          "text": [
            "/content/drive/My Drive/Notebook Files/GWHD/1866/09_28.json\n"
          ],
          "name": "stdout"
        },
        {
          "output_type": "stream",
          "text": [
            "\r  8%|▊         | 9/113 [13:38<2:51:15, 98.80s/it]"
          ],
          "name": "stderr"
        },
        {
          "output_type": "stream",
          "text": [
            "/content/drive/My Drive/Notebook Files/GWHD/1866/06_28.json\n"
          ],
          "name": "stdout"
        },
        {
          "output_type": "stream",
          "text": [
            "\r  9%|▉         | 10/113 [14:37<2:29:13, 86.93s/it]"
          ],
          "name": "stderr"
        },
        {
          "output_type": "stream",
          "text": [
            "/content/drive/My Drive/Notebook Files/GWHD/1866/06_01.json\n"
          ],
          "name": "stdout"
        },
        {
          "output_type": "stream",
          "text": [
            "\r 10%|▉         | 11/113 [16:27<2:39:14, 93.67s/it]"
          ],
          "name": "stderr"
        },
        {
          "output_type": "stream",
          "text": [
            "/content/drive/My Drive/Notebook Files/GWHD/1866/11_13.json\n"
          ],
          "name": "stdout"
        },
        {
          "output_type": "stream",
          "text": [
            "\r 11%|█         | 12/113 [17:32<2:23:14, 85.10s/it]"
          ],
          "name": "stderr"
        },
        {
          "output_type": "stream",
          "text": [
            "/content/drive/My Drive/Notebook Files/GWHD/1866/09_17.json\n"
          ],
          "name": "stdout"
        },
        {
          "output_type": "stream",
          "text": [
            "\r 12%|█▏        | 13/113 [19:16<2:31:07, 90.68s/it]"
          ],
          "name": "stderr"
        },
        {
          "output_type": "stream",
          "text": [
            "/content/drive/My Drive/Notebook Files/GWHD/1866/09_01.json\n"
          ],
          "name": "stdout"
        },
        {
          "output_type": "stream",
          "text": [
            "\r 12%|█▏        | 14/113 [21:30<2:51:18, 103.82s/it]"
          ],
          "name": "stderr"
        },
        {
          "output_type": "stream",
          "text": [
            "/content/drive/My Drive/Notebook Files/GWHD/1866/10_29.json\n"
          ],
          "name": "stdout"
        },
        {
          "output_type": "stream",
          "text": [
            "\r 13%|█▎        | 15/113 [23:43<3:04:00, 112.65s/it]"
          ],
          "name": "stderr"
        },
        {
          "output_type": "stream",
          "text": [
            "/content/drive/My Drive/Notebook Files/GWHD/1866/01_20.json\n"
          ],
          "name": "stdout"
        },
        {
          "output_type": "stream",
          "text": [
            "\r 14%|█▍        | 16/113 [25:14<2:51:36, 106.15s/it]"
          ],
          "name": "stderr"
        },
        {
          "output_type": "stream",
          "text": [
            "/content/drive/My Drive/Notebook Files/GWHD/1866/01_01.json\n"
          ],
          "name": "stdout"
        },
        {
          "output_type": "stream",
          "text": [
            "\r 15%|█▌        | 17/113 [26:46<2:42:41, 101.68s/it]"
          ],
          "name": "stderr"
        },
        {
          "output_type": "stream",
          "text": [
            "/content/drive/My Drive/Notebook Files/GWHD/1866/04_20.json\n"
          ],
          "name": "stdout"
        },
        {
          "output_type": "stream",
          "text": [
            "\r 16%|█▌        | 18/113 [28:20<2:37:37, 99.55s/it] "
          ],
          "name": "stderr"
        },
        {
          "output_type": "stream",
          "text": [
            "/content/drive/My Drive/Notebook Files/GWHD/1866/05_31.json\n"
          ],
          "name": "stdout"
        },
        {
          "output_type": "stream",
          "text": [
            "\r 17%|█▋        | 19/113 [29:52<2:32:27, 97.31s/it]"
          ],
          "name": "stderr"
        },
        {
          "output_type": "stream",
          "text": [
            "/content/drive/My Drive/Notebook Files/GWHD/1866/03_31.json\n"
          ],
          "name": "stdout"
        },
        {
          "output_type": "stream",
          "text": [
            "\r 18%|█▊        | 20/113 [31:15<2:24:05, 92.96s/it]"
          ],
          "name": "stderr"
        },
        {
          "output_type": "stream",
          "text": [
            "/content/drive/My Drive/Notebook Files/GWHD/1866/12_26.json\n"
          ],
          "name": "stdout"
        },
        {
          "output_type": "stream",
          "text": [
            "\r 19%|█▊        | 21/113 [32:50<2:23:14, 93.42s/it]"
          ],
          "name": "stderr"
        },
        {
          "output_type": "stream",
          "text": [
            "/content/drive/My Drive/Notebook Files/GWHD/1866/05_17.json\n"
          ],
          "name": "stdout"
        },
        {
          "output_type": "stream",
          "text": [
            "\r 19%|█▉        | 22/113 [34:00<2:11:18, 86.57s/it]"
          ],
          "name": "stderr"
        },
        {
          "output_type": "stream",
          "text": [
            "/content/drive/My Drive/Notebook Files/GWHD/1866/02_06.json\n"
          ],
          "name": "stdout"
        },
        {
          "output_type": "stream",
          "text": [
            "\r 20%|██        | 23/113 [34:47<1:52:00, 74.67s/it]"
          ],
          "name": "stderr"
        },
        {
          "output_type": "stream",
          "text": [
            "/content/drive/My Drive/Notebook Files/GWHD/1866/03_06.json\n"
          ],
          "name": "stdout"
        },
        {
          "output_type": "stream",
          "text": [
            "\r 21%|██        | 24/113 [35:35<1:39:03, 66.78s/it]"
          ],
          "name": "stderr"
        },
        {
          "output_type": "stream",
          "text": [
            "/content/drive/My Drive/Notebook Files/GWHD/1866/03_01.json\n"
          ],
          "name": "stdout"
        },
        {
          "output_type": "stream",
          "text": [
            "\r 22%|██▏       | 25/113 [36:34<1:34:18, 64.31s/it]"
          ],
          "name": "stderr"
        },
        {
          "output_type": "stream",
          "text": [
            "/content/drive/My Drive/Notebook Files/GWHD/1866/12_10.json\n"
          ],
          "name": "stdout"
        },
        {
          "output_type": "stream",
          "text": [
            "\r 23%|██▎       | 26/113 [38:50<2:04:20, 85.76s/it]"
          ],
          "name": "stderr"
        },
        {
          "output_type": "stream",
          "text": [
            "/content/drive/My Drive/Notebook Files/GWHD/1866/05_25.json\n"
          ],
          "name": "stdout"
        },
        {
          "output_type": "stream",
          "text": [
            "\r 24%|██▍       | 27/113 [40:28<2:08:13, 89.46s/it]"
          ],
          "name": "stderr"
        },
        {
          "output_type": "stream",
          "text": [
            "/content/drive/My Drive/Notebook Files/GWHD/1866/04_06.json\n"
          ],
          "name": "stdout"
        },
        {
          "output_type": "stream",
          "text": [
            "\r 25%|██▍       | 28/113 [42:01<2:08:07, 90.44s/it]"
          ],
          "name": "stderr"
        },
        {
          "output_type": "stream",
          "text": [
            "/content/drive/My Drive/Notebook Files/GWHD/1866/09_14.json\n"
          ],
          "name": "stdout"
        },
        {
          "output_type": "stream",
          "text": [
            "\r 26%|██▌       | 29/113 [43:35<2:08:21, 91.69s/it]"
          ],
          "name": "stderr"
        },
        {
          "output_type": "stream",
          "text": [
            "/content/drive/My Drive/Notebook Files/GWHD/1866/10_02.json\n"
          ],
          "name": "stdout"
        },
        {
          "output_type": "stream",
          "text": [
            "\r 27%|██▋       | 30/113 [44:36<1:54:05, 82.48s/it]"
          ],
          "name": "stderr"
        },
        {
          "output_type": "stream",
          "text": [
            "/content/drive/My Drive/Notebook Files/GWHD/1866/07_14.json\n"
          ],
          "name": "stdout"
        },
        {
          "output_type": "stream",
          "text": [
            "\r 27%|██▋       | 31/113 [46:01<1:53:41, 83.19s/it]"
          ],
          "name": "stderr"
        },
        {
          "output_type": "stream",
          "text": [
            "/content/drive/My Drive/Notebook Files/GWHD/1866/02_01.json\n"
          ],
          "name": "stdout"
        },
        {
          "output_type": "stream",
          "text": [
            "\r 28%|██▊       | 32/113 [47:01<1:42:57, 76.27s/it]"
          ],
          "name": "stderr"
        },
        {
          "output_type": "stream",
          "text": [
            "/content/drive/My Drive/Notebook Files/GWHD/1866/01_31.json\n"
          ],
          "name": "stdout"
        },
        {
          "output_type": "stream",
          "text": [
            "\r 29%|██▉       | 33/113 [48:26<1:45:16, 78.95s/it]"
          ],
          "name": "stderr"
        },
        {
          "output_type": "stream",
          "text": [
            "/content/drive/My Drive/Notebook Files/GWHD/1866/10_18.json\n"
          ],
          "name": "stdout"
        },
        {
          "output_type": "stream",
          "text": [
            "\r 30%|███       | 34/113 [49:43<1:42:57, 78.20s/it]"
          ],
          "name": "stderr"
        },
        {
          "output_type": "stream",
          "text": [
            "/content/drive/My Drive/Notebook Files/GWHD/1866/12_07.json\n"
          ],
          "name": "stdout"
        },
        {
          "output_type": "stream",
          "text": [
            "\r 31%|███       | 35/113 [51:35<1:54:49, 88.33s/it]"
          ],
          "name": "stderr"
        },
        {
          "output_type": "stream",
          "text": [
            "/content/drive/My Drive/Notebook Files/GWHD/1866/12_15.json\n"
          ],
          "name": "stdout"
        },
        {
          "output_type": "stream",
          "text": [
            "\r 32%|███▏      | 36/113 [53:06<1:54:33, 89.26s/it]"
          ],
          "name": "stderr"
        },
        {
          "output_type": "stream",
          "text": [
            "/content/drive/My Drive/Notebook Files/GWHD/1866/01_17.json\n"
          ],
          "name": "stdout"
        },
        {
          "output_type": "stream",
          "text": [
            "\r 33%|███▎      | 37/113 [54:54<1:59:56, 94.69s/it]"
          ],
          "name": "stderr"
        },
        {
          "output_type": "stream",
          "text": [
            "/content/drive/My Drive/Notebook Files/GWHD/1866/03_17.json\n"
          ],
          "name": "stdout"
        },
        {
          "output_type": "stream",
          "text": [
            "\r 34%|███▎      | 38/113 [56:03<1:48:56, 87.16s/it]"
          ],
          "name": "stderr"
        },
        {
          "output_type": "stream",
          "text": [
            "/content/drive/My Drive/Notebook Files/GWHD/1866/09_27.json\n"
          ],
          "name": "stdout"
        },
        {
          "output_type": "stream",
          "text": [
            "\r 35%|███▍      | 39/113 [57:07<1:38:55, 80.21s/it]"
          ],
          "name": "stderr"
        },
        {
          "output_type": "stream",
          "text": [
            "/content/drive/My Drive/Notebook Files/GWHD/1866/10_15.json\n"
          ],
          "name": "stdout"
        },
        {
          "output_type": "stream",
          "text": [
            "\r 35%|███▌      | 40/113 [59:20<1:56:42, 95.93s/it]"
          ],
          "name": "stderr"
        },
        {
          "output_type": "stream",
          "text": [
            "/content/drive/My Drive/Notebook Files/GWHD/1866/03_08.json\n"
          ],
          "name": "stdout"
        },
        {
          "output_type": "stream",
          "text": [
            "\r 36%|███▋      | 41/113 [1:00:06<1:37:05, 80.91s/it]"
          ],
          "name": "stderr"
        },
        {
          "output_type": "stream",
          "text": [
            "/content/drive/My Drive/Notebook Files/GWHD/1866/03_03.json\n"
          ],
          "name": "stdout"
        },
        {
          "output_type": "stream",
          "text": [
            "\r 37%|███▋      | 42/113 [1:01:27<1:36:00, 81.13s/it]"
          ],
          "name": "stderr"
        },
        {
          "output_type": "stream",
          "text": [
            "/content/drive/My Drive/Notebook Files/GWHD/1866/05_08.json\n"
          ],
          "name": "stdout"
        },
        {
          "output_type": "stream",
          "text": [
            "\r 38%|███▊      | 43/113 [1:02:29<1:27:59, 75.42s/it]"
          ],
          "name": "stderr"
        },
        {
          "output_type": "stream",
          "text": [
            "/content/drive/My Drive/Notebook Files/GWHD/1866/02_19.json\n"
          ],
          "name": "stdout"
        },
        {
          "output_type": "stream",
          "text": [
            "\r 39%|███▉      | 44/113 [1:04:16<1:37:29, 84.78s/it]"
          ],
          "name": "stderr"
        },
        {
          "output_type": "stream",
          "text": [
            "/content/drive/My Drive/Notebook Files/GWHD/1866/02_03.json\n"
          ],
          "name": "stdout"
        },
        {
          "output_type": "stream",
          "text": [
            "\r 40%|███▉      | 45/113 [1:05:20<1:28:52, 78.42s/it]"
          ],
          "name": "stderr"
        },
        {
          "output_type": "stream",
          "text": [
            "/content/drive/My Drive/Notebook Files/GWHD/1866/01_08.json\n"
          ],
          "name": "stdout"
        },
        {
          "output_type": "stream",
          "text": [
            "\r 41%|████      | 46/113 [1:06:41<1:28:38, 79.38s/it]"
          ],
          "name": "stderr"
        },
        {
          "output_type": "stream",
          "text": [
            "/content/drive/My Drive/Notebook Files/GWHD/1866/11_09.json\n"
          ],
          "name": "stdout"
        },
        {
          "output_type": "stream",
          "text": [
            "\r 42%|████▏     | 47/113 [1:08:32<1:37:41, 88.81s/it]"
          ],
          "name": "stderr"
        },
        {
          "output_type": "stream",
          "text": [
            "/content/drive/My Drive/Notebook Files/GWHD/1866/01_03.json\n"
          ],
          "name": "stdout"
        },
        {
          "output_type": "stream",
          "text": [
            "\r 42%|████▏     | 48/113 [1:09:48<1:32:03, 84.98s/it]"
          ],
          "name": "stderr"
        },
        {
          "output_type": "stream",
          "text": [
            "/content/drive/My Drive/Notebook Files/GWHD/1866/02_14.json\n"
          ],
          "name": "stdout"
        },
        {
          "output_type": "stream",
          "text": [
            "\r 43%|████▎     | 49/113 [1:11:14<1:30:55, 85.25s/it]"
          ],
          "name": "stderr"
        },
        {
          "output_type": "stream",
          "text": [
            "/content/drive/My Drive/Notebook Files/GWHD/1866/05_19.json\n"
          ],
          "name": "stdout"
        },
        {
          "output_type": "stream",
          "text": [
            "\r 44%|████▍     | 50/113 [1:12:37<1:28:49, 84.59s/it]"
          ],
          "name": "stderr"
        },
        {
          "output_type": "stream",
          "text": [
            "/content/drive/My Drive/Notebook Files/GWHD/1866/05_14.json\n"
          ],
          "name": "stdout"
        },
        {
          "output_type": "stream",
          "text": [
            "\r 45%|████▌     | 51/113 [1:14:37<1:38:27, 95.29s/it]"
          ],
          "name": "stderr"
        },
        {
          "output_type": "stream",
          "text": [
            "/content/drive/My Drive/Notebook Files/GWHD/1866/02_16.json\n"
          ],
          "name": "stdout"
        },
        {
          "output_type": "stream",
          "text": [
            "\r 46%|████▌     | 52/113 [1:16:19<1:38:46, 97.16s/it]"
          ],
          "name": "stderr"
        },
        {
          "output_type": "stream",
          "text": [
            "/content/drive/My Drive/Notebook Files/GWHD/1866/12_28.json\n"
          ],
          "name": "stdout"
        },
        {
          "output_type": "stream",
          "text": [
            "\r 47%|████▋     | 53/113 [1:18:06<1:40:17, 100.29s/it]"
          ],
          "name": "stderr"
        },
        {
          "output_type": "stream",
          "text": [
            "/content/drive/My Drive/Notebook Files/GWHD/1866/10_23.json\n"
          ],
          "name": "stdout"
        },
        {
          "output_type": "stream",
          "text": [
            "\r 48%|████▊     | 54/113 [1:19:04<1:25:54, 87.37s/it] "
          ],
          "name": "stderr"
        },
        {
          "output_type": "stream",
          "text": [
            "/content/drive/My Drive/Notebook Files/GWHD/1866/04_16.json\n"
          ],
          "name": "stdout"
        },
        {
          "output_type": "stream",
          "text": [
            "\r 49%|████▊     | 55/113 [1:21:15<1:37:21, 100.72s/it]"
          ],
          "name": "stderr"
        },
        {
          "output_type": "stream",
          "text": [
            "/content/drive/My Drive/Notebook Files/GWHD/1866/09_05.json\n"
          ],
          "name": "stdout"
        },
        {
          "output_type": "stream",
          "text": [
            "\r 50%|████▉     | 56/113 [1:23:06<1:38:26, 103.63s/it]"
          ],
          "name": "stderr"
        },
        {
          "output_type": "stream",
          "text": [
            "/content/drive/My Drive/Notebook Files/GWHD/1866/10_12.json\n"
          ],
          "name": "stdout"
        },
        {
          "output_type": "stream",
          "text": [
            "\r 50%|█████     | 57/113 [1:24:50<1:36:52, 103.79s/it]"
          ],
          "name": "stderr"
        },
        {
          "output_type": "stream",
          "text": [
            "/content/drive/My Drive/Notebook Files/GWHD/1866/04_05.json\n"
          ],
          "name": "stdout"
        },
        {
          "output_type": "stream",
          "text": [
            "\r 51%|█████▏    | 58/113 [1:25:41<1:20:35, 87.92s/it] "
          ],
          "name": "stderr"
        },
        {
          "output_type": "stream",
          "text": [
            "/content/drive/My Drive/Notebook Files/GWHD/1866/10_17.json\n"
          ],
          "name": "stdout"
        },
        {
          "output_type": "stream",
          "text": [
            "\r 52%|█████▏    | 59/113 [1:27:23<1:22:49, 92.03s/it]"
          ],
          "name": "stderr"
        },
        {
          "output_type": "stream",
          "text": [
            "/content/drive/My Drive/Notebook Files/GWHD/1866/01_27.json\n"
          ],
          "name": "stdout"
        },
        {
          "output_type": "stream",
          "text": [
            "\r 53%|█████▎    | 60/113 [1:28:42<1:18:00, 88.30s/it]"
          ],
          "name": "stderr"
        },
        {
          "output_type": "stream",
          "text": [
            "/content/drive/My Drive/Notebook Files/GWHD/1866/02_22.json\n"
          ],
          "name": "stdout"
        },
        {
          "output_type": "stream",
          "text": [
            "\r 54%|█████▍    | 61/113 [1:29:32<1:06:33, 76.81s/it]"
          ],
          "name": "stderr"
        },
        {
          "output_type": "stream",
          "text": [
            "/content/drive/My Drive/Notebook Files/GWHD/1866/06_16.json\n"
          ],
          "name": "stdout"
        },
        {
          "output_type": "stream",
          "text": [
            "\r 55%|█████▍    | 62/113 [1:30:47<1:04:53, 76.35s/it]"
          ],
          "name": "stderr"
        },
        {
          "output_type": "stream",
          "text": [
            "/content/drive/My Drive/Notebook Files/GWHD/1866/05_16.json\n"
          ],
          "name": "stdout"
        },
        {
          "output_type": "stream",
          "text": [
            "\r 56%|█████▌    | 63/113 [1:32:35<1:11:20, 85.61s/it]"
          ],
          "name": "stderr"
        },
        {
          "output_type": "stream",
          "text": [
            "/content/drive/My Drive/Notebook Files/GWHD/1866/03_22.json\n"
          ],
          "name": "stdout"
        },
        {
          "output_type": "stream",
          "text": [
            "\r 57%|█████▋    | 64/113 [1:33:28<1:02:05, 76.02s/it]"
          ],
          "name": "stderr"
        },
        {
          "output_type": "stream",
          "text": [
            "/content/drive/My Drive/Notebook Files/GWHD/1866/12_01.json\n"
          ],
          "name": "stdout"
        },
        {
          "output_type": "stream",
          "text": [
            "\r 58%|█████▊    | 65/113 [1:35:00<1:04:40, 80.85s/it]"
          ],
          "name": "stderr"
        },
        {
          "output_type": "stream",
          "text": [
            "/content/drive/My Drive/Notebook Files/GWHD/1866/05_22.json\n"
          ],
          "name": "stdout"
        },
        {
          "output_type": "stream",
          "text": [
            "\r 58%|█████▊    | 66/113 [1:36:01<58:28, 74.64s/it]  "
          ],
          "name": "stderr"
        },
        {
          "output_type": "stream",
          "text": [
            "/content/drive/My Drive/Notebook Files/GWHD/1866/12_03.json\n"
          ],
          "name": "stdout"
        },
        {
          "output_type": "stream",
          "text": [
            "\r 59%|█████▉    | 67/113 [1:37:51<1:05:25, 85.33s/it]"
          ],
          "name": "stderr"
        },
        {
          "output_type": "stream",
          "text": [
            "/content/drive/My Drive/Notebook Files/GWHD/1866/06_30.json\n"
          ],
          "name": "stdout"
        },
        {
          "output_type": "stream",
          "text": [
            "\r 60%|██████    | 68/113 [1:39:08<1:02:03, 82.75s/it]"
          ],
          "name": "stderr"
        },
        {
          "output_type": "stream",
          "text": [
            "/content/drive/My Drive/Notebook Files/GWHD/1866/06_13.json\n"
          ],
          "name": "stdout"
        },
        {
          "output_type": "stream",
          "text": [
            "\r 61%|██████    | 69/113 [1:40:29<1:00:28, 82.46s/it]"
          ],
          "name": "stderr"
        },
        {
          "output_type": "stream",
          "text": [
            "/content/drive/My Drive/Notebook Files/GWHD/1866/07_18.json\n"
          ],
          "name": "stdout"
        },
        {
          "output_type": "stream",
          "text": [
            "\r 62%|██████▏   | 70/113 [1:42:06<1:02:14, 86.85s/it]"
          ],
          "name": "stderr"
        },
        {
          "output_type": "stream",
          "text": [
            "/content/drive/My Drive/Notebook Files/GWHD/1866/01_24.json\n"
          ],
          "name": "stdout"
        },
        {
          "output_type": "stream",
          "text": [
            "\r 63%|██████▎   | 71/113 [1:43:21<58:07, 83.03s/it]  "
          ],
          "name": "stderr"
        },
        {
          "output_type": "stream",
          "text": [
            "/content/drive/My Drive/Notebook Files/GWHD/1866/12_14.json\n"
          ],
          "name": "stdout"
        },
        {
          "output_type": "stream",
          "text": [
            "\r 64%|██████▎   | 72/113 [1:45:04<1:00:57, 89.20s/it]"
          ],
          "name": "stderr"
        },
        {
          "output_type": "stream",
          "text": [
            "/content/drive/My Drive/Notebook Files/GWHD/1866/08_24.json\n"
          ],
          "name": "stdout"
        },
        {
          "output_type": "stream",
          "text": [
            "\r 65%|██████▍   | 73/113 [1:46:33<59:24, 89.11s/it]  "
          ],
          "name": "stderr"
        },
        {
          "output_type": "stream",
          "text": [
            "/content/drive/My Drive/Notebook Files/GWHD/1866/02_24.json\n"
          ],
          "name": "stdout"
        },
        {
          "output_type": "stream",
          "text": [
            "\r 65%|██████▌   | 74/113 [1:47:45<54:34, 83.95s/it]"
          ],
          "name": "stderr"
        },
        {
          "output_type": "stream",
          "text": [
            "/content/drive/My Drive/Notebook Files/GWHD/1866/04_13.json\n"
          ],
          "name": "stdout"
        },
        {
          "output_type": "stream",
          "text": [
            "\r 66%|██████▋   | 75/113 [1:49:37<58:26, 92.28s/it]"
          ],
          "name": "stderr"
        },
        {
          "output_type": "stream",
          "text": [
            "/content/drive/My Drive/Notebook Files/GWHD/1866/05_30.json\n"
          ],
          "name": "stdout"
        },
        {
          "output_type": "stream",
          "text": [
            "\r 67%|██████▋   | 76/113 [1:51:16<58:15, 94.48s/it]"
          ],
          "name": "stderr"
        },
        {
          "output_type": "stream",
          "text": [
            "/content/drive/My Drive/Notebook Files/GWHD/1866/02_05.json\n"
          ],
          "name": "stdout"
        },
        {
          "output_type": "stream",
          "text": [
            "\r 68%|██████▊   | 77/113 [1:52:44<55:26, 92.41s/it]"
          ],
          "name": "stderr"
        },
        {
          "output_type": "stream",
          "text": [
            "/content/drive/My Drive/Notebook Files/GWHD/1866/01_30.json\n"
          ],
          "name": "stdout"
        },
        {
          "output_type": "stream",
          "text": [
            "\r 69%|██████▉   | 78/113 [1:53:31<45:55, 78.73s/it]"
          ],
          "name": "stderr"
        },
        {
          "output_type": "stream",
          "text": [
            "/content/drive/My Drive/Notebook Files/GWHD/1866/09_18.json\n"
          ],
          "name": "stdout"
        },
        {
          "output_type": "stream",
          "text": [
            "\r 70%|██████▉   | 79/113 [1:54:30<41:16, 72.83s/it]"
          ],
          "name": "stderr"
        },
        {
          "output_type": "stream",
          "text": [
            "/content/drive/My Drive/Notebook Files/GWHD/1866/12_27.json\n"
          ],
          "name": "stdout"
        },
        {
          "output_type": "stream",
          "text": [
            "\r 71%|███████   | 80/113 [1:55:29<37:44, 68.64s/it]"
          ],
          "name": "stderr"
        },
        {
          "output_type": "stream",
          "text": [
            "/content/drive/My Drive/Notebook Files/GWHD/1866/03_07.json\n"
          ],
          "name": "stdout"
        },
        {
          "output_type": "stream",
          "text": [
            "\r 72%|███████▏  | 81/113 [1:56:59<40:08, 75.26s/it]"
          ],
          "name": "stderr"
        },
        {
          "output_type": "stream",
          "text": [
            "/content/drive/My Drive/Notebook Files/GWHD/1866/06_02.json\n"
          ],
          "name": "stdout"
        },
        {
          "output_type": "stream",
          "text": [
            "\r 73%|███████▎  | 82/113 [1:58:24<40:18, 78.01s/it]"
          ],
          "name": "stderr"
        },
        {
          "output_type": "stream",
          "text": [
            "/content/drive/My Drive/Notebook Files/GWHD/1866/01_13.json\n"
          ],
          "name": "stdout"
        },
        {
          "output_type": "stream",
          "text": [
            "\r 73%|███████▎  | 83/113 [1:59:44<39:19, 78.64s/it]"
          ],
          "name": "stderr"
        },
        {
          "output_type": "stream",
          "text": [
            "/content/drive/My Drive/Notebook Files/GWHD/1866/03_29.json\n"
          ],
          "name": "stdout"
        },
        {
          "output_type": "stream",
          "text": [
            "\r 74%|███████▍  | 84/113 [2:00:41<34:51, 72.12s/it]"
          ],
          "name": "stderr"
        },
        {
          "output_type": "stream",
          "text": [
            "/content/drive/My Drive/Notebook Files/GWHD/1866/01_29.json\n"
          ],
          "name": "stdout"
        },
        {
          "output_type": "stream",
          "text": [
            "\r 75%|███████▌  | 85/113 [2:02:07<35:33, 76.21s/it]"
          ],
          "name": "stderr"
        },
        {
          "output_type": "stream",
          "text": [
            "/content/drive/My Drive/Notebook Files/GWHD/1866/04_07.json\n"
          ],
          "name": "stdout"
        },
        {
          "output_type": "stream",
          "text": [
            "\r 76%|███████▌  | 86/113 [2:03:24<34:25, 76.51s/it]"
          ],
          "name": "stderr"
        },
        {
          "output_type": "stream",
          "text": [
            "/content/drive/My Drive/Notebook Files/GWHD/1866/11_22.json\n"
          ],
          "name": "stdout"
        },
        {
          "output_type": "stream",
          "text": [
            "\r 77%|███████▋  | 87/113 [2:04:30<31:45, 73.29s/it]"
          ],
          "name": "stderr"
        },
        {
          "output_type": "stream",
          "text": [
            "/content/drive/My Drive/Notebook Files/GWHD/1866/09_07.json\n"
          ],
          "name": "stdout"
        },
        {
          "output_type": "stream",
          "text": [
            "\r 78%|███████▊  | 88/113 [2:06:33<36:45, 88.23s/it]"
          ],
          "name": "stderr"
        },
        {
          "output_type": "stream",
          "text": [
            "/content/drive/My Drive/Notebook Files/GWHD/1866/10_08.json\n"
          ],
          "name": "stdout"
        },
        {
          "output_type": "stream",
          "text": [
            "\r 79%|███████▉  | 89/113 [2:08:16<37:06, 92.79s/it]"
          ],
          "name": "stderr"
        },
        {
          "output_type": "stream",
          "text": [
            "/content/drive/My Drive/Notebook Files/GWHD/1866/05_21.json\n"
          ],
          "name": "stdout"
        },
        {
          "output_type": "stream",
          "text": [
            "\r 80%|███████▉  | 90/113 [2:10:20<39:06, 102.04s/it]"
          ],
          "name": "stderr"
        },
        {
          "output_type": "stream",
          "text": [
            "/content/drive/My Drive/Notebook Files/GWHD/1866/12_22.json\n"
          ],
          "name": "stdout"
        },
        {
          "output_type": "stream",
          "text": [
            "\r 81%|████████  | 91/113 [2:11:53<36:25, 99.33s/it] "
          ],
          "name": "stderr"
        },
        {
          "output_type": "stream",
          "text": [
            "/content/drive/My Drive/Notebook Files/GWHD/1866/06_18.json\n"
          ],
          "name": "stdout"
        },
        {
          "output_type": "stream",
          "text": [
            "\r 81%|████████▏ | 92/113 [2:13:40<35:35, 101.67s/it]"
          ],
          "name": "stderr"
        },
        {
          "output_type": "stream",
          "text": [
            "/content/drive/My Drive/Notebook Files/GWHD/1866/02_02.json\n"
          ],
          "name": "stdout"
        },
        {
          "output_type": "stream",
          "text": [
            "\r 82%|████████▏ | 93/113 [2:15:05<32:15, 96.76s/it] "
          ],
          "name": "stderr"
        },
        {
          "output_type": "stream",
          "text": [
            "/content/drive/My Drive/Notebook Files/GWHD/1866/11_27.json\n"
          ],
          "name": "stdout"
        },
        {
          "output_type": "stream",
          "text": [
            "\r 83%|████████▎ | 94/113 [2:16:08<27:27, 86.69s/it]"
          ],
          "name": "stderr"
        },
        {
          "output_type": "stream",
          "text": [
            "/content/drive/My Drive/Notebook Files/GWHD/1866/10_19.json\n"
          ],
          "name": "stdout"
        },
        {
          "output_type": "stream",
          "text": [
            "\r 84%|████████▍ | 95/113 [2:18:26<30:37, 102.06s/it]"
          ],
          "name": "stderr"
        },
        {
          "output_type": "stream",
          "text": [
            "/content/drive/My Drive/Notebook Files/GWHD/1866/02_13.json\n"
          ],
          "name": "stdout"
        },
        {
          "output_type": "stream",
          "text": [
            "\r 85%|████████▍ | 96/113 [2:19:19<24:42, 87.22s/it] "
          ],
          "name": "stderr"
        },
        {
          "output_type": "stream",
          "text": [
            "/content/drive/My Drive/Notebook Files/GWHD/1866/06_07.json\n"
          ],
          "name": "stdout"
        },
        {
          "output_type": "stream",
          "text": [
            "\r 86%|████████▌ | 97/113 [2:20:10<20:21, 76.37s/it]"
          ],
          "name": "stderr"
        },
        {
          "output_type": "stream",
          "text": [
            "/content/drive/My Drive/Notebook Files/GWHD/1866/03_13.json\n"
          ],
          "name": "stdout"
        },
        {
          "output_type": "stream",
          "text": [
            "\r 87%|████████▋ | 98/113 [2:21:11<17:54, 71.64s/it]"
          ],
          "name": "stderr"
        },
        {
          "output_type": "stream",
          "text": [
            "/content/drive/My Drive/Notebook Files/GWHD/1866/09_21.json\n"
          ],
          "name": "stdout"
        },
        {
          "output_type": "stream",
          "text": [
            "\r 88%|████████▊ | 99/113 [2:22:49<18:36, 79.75s/it]"
          ],
          "name": "stderr"
        },
        {
          "output_type": "stream",
          "text": [
            "/content/drive/My Drive/Notebook Files/GWHD/1866/07_09.json\n"
          ],
          "name": "stdout"
        },
        {
          "output_type": "stream",
          "text": [
            "\r 88%|████████▊ | 100/113 [2:24:17<17:48, 82.21s/it]"
          ],
          "name": "stderr"
        },
        {
          "output_type": "stream",
          "text": [
            "/content/drive/My Drive/Notebook Files/GWHD/1866/02_26.json\n"
          ],
          "name": "stdout"
        },
        {
          "output_type": "stream",
          "text": [
            "\r 89%|████████▉ | 101/113 [2:26:13<18:29, 92.45s/it]"
          ],
          "name": "stderr"
        },
        {
          "output_type": "stream",
          "text": [
            "/content/drive/My Drive/Notebook Files/GWHD/1866/05_26.json\n"
          ],
          "name": "stdout"
        },
        {
          "output_type": "stream",
          "text": [
            "\r 90%|█████████ | 102/113 [2:27:48<17:04, 93.11s/it]"
          ],
          "name": "stderr"
        },
        {
          "output_type": "stream",
          "text": [
            "/content/drive/My Drive/Notebook Files/GWHD/1866/02_15.json\n"
          ],
          "name": "stdout"
        },
        {
          "output_type": "stream",
          "text": [
            "\r 91%|█████████ | 103/113 [2:28:41<13:30, 81.06s/it]"
          ],
          "name": "stderr"
        },
        {
          "output_type": "stream",
          "text": [
            "/content/drive/My Drive/Notebook Files/GWHD/1866/02_09.json\n"
          ],
          "name": "stdout"
        },
        {
          "output_type": "stream",
          "text": [
            "\r 92%|█████████▏| 104/113 [2:30:12<12:36, 84.01s/it]"
          ],
          "name": "stderr"
        },
        {
          "output_type": "stream",
          "text": [
            "/content/drive/My Drive/Notebook Files/GWHD/1866/02_21.json\n"
          ],
          "name": "stdout"
        },
        {
          "output_type": "stream",
          "text": [
            "\r 93%|█████████▎| 105/113 [2:31:51<11:47, 88.39s/it]"
          ],
          "name": "stderr"
        },
        {
          "output_type": "stream",
          "text": [
            "/content/drive/My Drive/Notebook Files/GWHD/1866/04_10.json\n"
          ],
          "name": "stdout"
        },
        {
          "output_type": "stream",
          "text": [
            "\r 94%|█████████▍| 106/113 [2:32:44<09:04, 77.83s/it]"
          ],
          "name": "stderr"
        },
        {
          "output_type": "stream",
          "text": [
            "/content/drive/My Drive/Notebook Files/GWHD/1866/04_04.json\n"
          ],
          "name": "stdout"
        },
        {
          "output_type": "stream",
          "text": [
            "\r 95%|█████████▍| 107/113 [2:34:16<08:13, 82.24s/it]"
          ],
          "name": "stderr"
        },
        {
          "output_type": "stream",
          "text": [
            "/content/drive/My Drive/Notebook Files/GWHD/1866/05_15.json\n"
          ],
          "name": "stdout"
        },
        {
          "output_type": "stream",
          "text": [
            "\r 96%|█████████▌| 108/113 [2:35:09<06:06, 73.35s/it]"
          ],
          "name": "stderr"
        },
        {
          "output_type": "stream",
          "text": [
            "/content/drive/My Drive/Notebook Files/GWHD/1866/11_30.json\n"
          ],
          "name": "stdout"
        },
        {
          "output_type": "stream",
          "text": [
            "\r 96%|█████████▋| 109/113 [2:36:55<05:32, 83.15s/it]"
          ],
          "name": "stderr"
        },
        {
          "output_type": "stream",
          "text": [
            "/content/drive/My Drive/Notebook Files/GWHD/1866/05_09.json\n"
          ],
          "name": "stdout"
        },
        {
          "output_type": "stream",
          "text": [
            "\r 97%|█████████▋| 110/113 [2:39:05<04:51, 97.28s/it]"
          ],
          "name": "stderr"
        },
        {
          "output_type": "stream",
          "text": [
            "/content/drive/My Drive/Notebook Files/GWHD/1866/01_15.json\n"
          ],
          "name": "stdout"
        },
        {
          "output_type": "stream",
          "text": [
            "\r 98%|█████████▊| 111/113 [2:40:50<03:18, 99.42s/it]"
          ],
          "name": "stderr"
        },
        {
          "output_type": "stream",
          "text": [
            "/content/drive/My Drive/Notebook Files/GWHD/1866/10_30.json\n"
          ],
          "name": "stdout"
        },
        {
          "output_type": "stream",
          "text": [
            "\r 99%|█████████▉| 112/113 [2:41:48<01:27, 87.08s/it]"
          ],
          "name": "stderr"
        },
        {
          "output_type": "stream",
          "text": [
            "/content/drive/My Drive/Notebook Files/GWHD/1866/06_15.json\n"
          ],
          "name": "stdout"
        },
        {
          "output_type": "stream",
          "text": [
            "100%|██████████| 113/113 [2:43:18<00:00, 86.72s/it]\n"
          ],
          "name": "stderr"
        }
      ]
    },
    {
      "cell_type": "markdown",
      "metadata": {
        "id": "aZmvJLK0ERh-"
      },
      "source": [
        "# Initial tests\n",
        "Check if original tests needs review"
      ]
    },
    {
      "cell_type": "code",
      "metadata": {
        "id": "XjHhBfcPAYXY"
      },
      "source": [
        "# path = \"/content/drive/MyDrive/Cochrane Master Folder/Specific Articles Related to Cochrane/ANJO/1858/03_31.json\"\n",
        "# sIn = splitInput(path)"
      ],
      "execution_count": null,
      "outputs": []
    },
    {
      "cell_type": "code",
      "metadata": {
        "id": "6929WdgMDDRd"
      },
      "source": [
        "# now = time.time()\n",
        "# outputstr = spellCorrect(sIn)\n",
        "# print(time.time()-now)\n",
        "# print(type(outputstr))\n",
        "# print(outputstr)"
      ],
      "execution_count": null,
      "outputs": []
    },
    {
      "cell_type": "code",
      "metadata": {
        "id": "_ZZ24tYDDVHj"
      },
      "source": [
        "# dict_version = {'Text':outputstr}\n",
        "\n",
        "# out = \"/content/drive/MyDrive/Test_Folder/Corrected Test/test.json\"\n",
        "# extractJSON(dict_version,out)\n"
      ],
      "execution_count": null,
      "outputs": []
    }
  ]
}