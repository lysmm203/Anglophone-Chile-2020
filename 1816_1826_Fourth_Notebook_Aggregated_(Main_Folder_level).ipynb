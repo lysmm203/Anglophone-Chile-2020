{
  "nbformat": 4,
  "nbformat_minor": 0,
  "metadata": {
    "colab": {
      "name": "1816-1826 Fourth Notebook Aggregated (Main Folder level)",
      "provenance": [],
      "collapsed_sections": [],
      "machine_shape": "hm"
    },
    "kernelspec": {
      "name": "python3",
      "display_name": "Python 3"
    },
    "accelerator": "GPU"
  },
  "cells": [
    {
      "cell_type": "markdown",
      "metadata": {
        "id": "B4-WzlW9lgOb"
      },
      "source": [
        "# Main Folder Level\n",
        "\n",
        "For current workflow for years **1816-1826**.\n",
        "\n",
        "Results are saved in the folder *'Fourth Notebook Results'* in drive"
      ]
    },
    {
      "cell_type": "code",
      "metadata": {
        "id": "UV_HIfLbYk7w",
        "colab": {
          "base_uri": "https://localhost:8080/",
          "height": 54
        },
        "outputId": "d7b32272-7d4e-4d68-8e43-f6a6cf0a5e3a"
      },
      "source": [
        "import spacy\n",
        "import re\n",
        "import pandas as pd\n",
        "import os, json\n",
        "import time\n",
        "spacy.cli.download(\"en_core_web_md\")\n",
        "spacy.require_gpu()\n",
        "import errno\n",
        "from os import path\n",
        "# from tqdm import tqdm\n"
      ],
      "execution_count": null,
      "outputs": [
        {
          "output_type": "stream",
          "text": [
            "\u001b[38;5;2m✔ Download and installation successful\u001b[0m\n",
            "You can now load the model via spacy.load('en_core_web_md')\n"
          ],
          "name": "stdout"
        }
      ]
    },
    {
      "cell_type": "code",
      "metadata": {
        "id": "MjYLYUu0YuYa"
      },
      "source": [
        "nlp = spacy.load('en_core_web_md')"
      ],
      "execution_count": null,
      "outputs": []
    },
    {
      "cell_type": "code",
      "metadata": {
        "id": "ttEwpE6WYwiW",
        "colab": {
          "base_uri": "https://localhost:8080/",
          "height": 36
        },
        "outputId": "2fb217e9-90d1-469a-8018-bfba1c464c9c"
      },
      "source": [
        "from google.colab import drive\n",
        "drive.mount('/content/drive', force_remount=True)"
      ],
      "execution_count": null,
      "outputs": [
        {
          "output_type": "stream",
          "text": [
            "Mounted at /content/drive\n"
          ],
          "name": "stdout"
        }
      ]
    },
    {
      "cell_type": "code",
      "metadata": {
        "id": "-13e9lM-Y4vs"
      },
      "source": [
        "# This functions determines whether the word \"Chili\" found in an article refers\\\n",
        "# to the country or not.\n",
        "def is_it_a_country(text):\n",
        "    isCountry = \"No\"\n",
        "    for entity in text.ents:\n",
        "        if entity.label_ in (\"NORP\", \"GPE\", \"LOC\", \"ORG\"):\n",
        "            if \"Chili\" in entity.text:\n",
        "                isCountry = \"Yes\"\n",
        "            elif \"Chile\" in entity.text:\n",
        "                isCountry = \"Yes\"\n",
        "    return isCountry\n",
        "\n",
        "#This function is used inside the regex to substitute the target by its lower character\n",
        "def upper_repl(match):\n",
        "     return match.group(1).lower()"
      ],
      "execution_count": null,
      "outputs": []
    },
    {
      "cell_type": "code",
      "metadata": {
        "id": "Hhdvuw_HY6UJ"
      },
      "source": [
        "# This function processes one JSON file and\n",
        "# determine if any Chile-related content is found.\n",
        "def run_one_file(filename):\n",
        "    # Read a JSON file and make it into a table(dataframe) in pandas.\n",
        "    dataframe = pd.read_json(filename).T\n",
        "\n",
        "    # Converts all 'chili' - case insensitive - to 'Chili'\n",
        "    dataframe.replace('(?i)chili','Chili', inplace=True, regex=True)\n",
        "    dataframe.replace('(?i)chile','Chile', inplace=True, regex=True)\n",
        "\n",
        "    # Converts common errors like chiliren/chiliden/chiliten to children    \n",
        "    for data in dataframe[1]:\n",
        "      data = re.sub(r\"(\\S*[rdt]\\S*Chili\\S*|\\bChili\\S*[rdt]\\S*)\", upper_repl , data)\n",
        "\n",
        "    # Prepare the content of the JSON file for named entity recognition\n",
        "    dataframe['spacyprep'] = dataframe[1].apply(lambda x: nlp(x))\n",
        "\n",
        "    # Determine if Chile is found in the content\n",
        "    dataframe['country'] = dataframe['spacyprep'].apply(lambda x: is_it_a_country(x))\n",
        "\n",
        "    # Count how many Yes (there is Chile-related content) and No in the file\n",
        "    count = dataframe['country'].value_counts()\n",
        "    \n",
        "    try:\n",
        "      # Return the percentage of No found in the file. If the ratio is less than\n",
        "      # 1, it means that there ARE Chile-related content\n",
        "      return count['No']/len(dataframe.index)\n",
        "    except:\n",
        "      # In the rare case that a year has a json file with a SINGLE title and related to \"Chili\"\n",
        "      return 0\n"
      ],
      "execution_count": null,
      "outputs": []
    },
    {
      "cell_type": "code",
      "metadata": {
        "id": "1qEmp-hPuQjY"
      },
      "source": [
        "\n",
        "def create_sheet(main, sub, table, output_path):\n",
        "\n",
        "  folder_exists = path.exists(output_path)\n",
        "  print(folder_exists)\n",
        "  try:\n",
        "    os.mkdir('/content/drive/My Drive/Fourth Notebook results/{}'.format(main))\n",
        "  except OSError as e:\n",
        "    if e.errno == errno.EEXIST:\n",
        "      pass\n",
        "\n",
        "  if folder_exists:\n",
        "    print('Sheet already exists. Use non-aggregated version for re-creating sheets')\n",
        "    print('\\n')\n",
        "  \n",
        "  else:\n",
        "    table.to_excel(output_path, index = True)\n",
        "    print('Excel sheet for {} successfully created'.format(sub))\n",
        "\n",
        "        \n",
        "      \n",
        "\n",
        "\n",
        "\n"
      ],
      "execution_count": null,
      "outputs": []
    },
    {
      "cell_type": "code",
      "metadata": {
        "id": "mL4loWVoY-BD",
        "colab": {
          "base_uri": "https://localhost:8080/",
          "height": 223
        },
        "outputId": "637e6e04-df32-41b4-a272-d73eb066415f"
      },
      "source": [
        "# The piece of code below runs the above functions through a year-level folder\n",
        "# Here input the name of the main folder and the year folder\n",
        "main_folder = input('Enter the main folder to run: ')\n",
        "\n",
        "folder_path = \"/content/drive/My Drive/Notebook Files/{}\".format(main_folder)\n",
        "print(folder_path)\n",
        "years = [folder for folder in os.listdir(folder_path) if int(folder[:4]) <= 1816 and int(folder[:4]) >= 1825]\n",
        "print (years)\n",
        "\n",
        "for year in years:\n",
        "\n",
        "  file_path = folder_path + '/{}'.format(year)\n",
        "  json_files = [pos_json for pos_json in\n",
        "              os.listdir(file_path) if pos_json.endswith('.json')]\n",
        "  print('The folder {} has {} json files'.format(file_path, len(json_files)))\n",
        "\n",
        "  result = []\n",
        "  for json_file in json_files:\n",
        "    result.append(run_one_file(file_path+'/'+json_file))\n",
        "\n",
        "  # Create a table that shows name of each file and result of that file\n",
        "  result_dict = {'File Name': json_files, 'Result': result}\n",
        "  result_table = pd.DataFrame(result_dict)\n",
        "  # Create a table that shows name and result of files that have Chile content\n",
        "  yes_result = result_table[result_table['Result'] != 1]\n",
        "  out = '/content/drive/My Drive/Fourth Notebook results/{}/{}.xlsx'.format(main_folder, year)\n",
        "  create_sheet(main_folder, year, yes_result, out)\n",
        "\n",
        "\n",
        "#MCLN \n",
        "#LVMR\n",
        "\n"
      ],
      "execution_count": null,
      "outputs": [
        {
          "output_type": "stream",
          "text": [
            "Enter the main folder to run: MCLN\n",
            "/content/drive/My Drive/Notebook Files/MCLN\n",
            "['1825', '1826']\n",
            "The folder /content/drive/My Drive/Notebook Files/MCLN/1825 has 314 json files\n",
            "True\n",
            "Sheet already exists. Use non-aggregated version for re-creating sheets\n",
            "\n",
            "\n",
            "The folder /content/drive/My Drive/Notebook Files/MCLN/1826 has 312 json files\n",
            "False\n",
            "Excel sheet for 1826 successfully created\n"
          ],
          "name": "stdout"
        }
      ]
    },
    {
      "cell_type": "code",
      "metadata": {
        "id": "WUmfi7DpyWGF",
        "colab": {
          "base_uri": "https://localhost:8080/",
          "height": 279
        },
        "outputId": "c6dfe370-a8e1-4e36-8c24-79b3947cc17e"
      },
      "source": [
        "print (yes_result)"
      ],
      "execution_count": null,
      "outputs": [
        {
          "output_type": "stream",
          "text": [
            "      File Name    Result\n",
            "0    03_07.json  0.888889\n",
            "1    02_07.json  0.888889\n",
            "3    02_10.json  0.800000\n",
            "4    10_27.json  0.909091\n",
            "7    05_10.json  0.800000\n",
            "..          ...       ...\n",
            "304  04_18.json  0.909091\n",
            "305  06_07.json  0.944444\n",
            "307  02_02.json  0.888889\n",
            "310  03_02.json  0.916667\n",
            "311  03_18.json  0.909091\n",
            "\n",
            "[145 rows x 2 columns]\n"
          ],
          "name": "stdout"
        }
      ]
    },
    {
      "cell_type": "code",
      "metadata": {
        "id": "OOVyYyL5uY2U",
        "colab": {
          "base_uri": "https://localhost:8080/",
          "height": 36
        },
        "outputId": "30bbbb50-3c93-49e8-d98e-0df89bccb72e"
      },
      "source": [
        "print('A run of folder {} for years 1816-1826 is complete! '.format(main_folder))"
      ],
      "execution_count": null,
      "outputs": [
        {
          "output_type": "stream",
          "text": [
            "A run of folder MCLN for years 1816-1826 is complete! \n"
          ],
          "name": "stdout"
        }
      ]
    }
  ]
}